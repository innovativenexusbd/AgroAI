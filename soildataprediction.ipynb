{
  "nbformat": 4,
  "nbformat_minor": 0,
  "metadata": {
    "colab": {
      "provenance": [],
      "include_colab_link": true
    },
    "kernelspec": {
      "name": "python3",
      "display_name": "Python 3"
    },
    "language_info": {
      "name": "python"
    }
  },
  "cells": [
    {
      "cell_type": "markdown",
      "metadata": {
        "id": "view-in-github",
        "colab_type": "text"
      },
      "source": [
        "<a href=\"https://colab.research.google.com/github/innovativenexusbd/AgroAI/blob/main/soildataprediction.ipynb\" target=\"_parent\"><img src=\"https://colab.research.google.com/assets/colab-badge.svg\" alt=\"Open In Colab\"/></a>"
      ]
    },
    {
      "cell_type": "markdown",
      "source": [
        "**Importing**"
      ],
      "metadata": {
        "id": "h3r576XdDASD"
      }
    },
    {
      "cell_type": "code",
      "execution_count": null,
      "metadata": {
        "id": "TlV0JD2jA7Vp"
      },
      "outputs": [],
      "source": [
        "import numpy as np\n",
        "import pandas as pd\n",
        "from sklearn.tree import DecisionTreeRegressor\n",
        "from sklearn.model_selection import train_test_split\n",
        "from sklearn.metrics import mean_squared_error\n",
        "import joblib"
      ]
    },
    {
      "cell_type": "markdown",
      "source": [
        "Defining and Spliting Dataset"
      ],
      "metadata": {
        "id": "bz5o1jVSDEmY"
      }
    },
    {
      "cell_type": "code",
      "source": [
        "soil_df = pd.read_csv('synthetic_soil_data_10years.csv')\n",
        "X = soil_df[['Year', 'Month']]\n",
        "y = soil_df[['Soil_Moisture', 'Soil_Temperature', 'Soil_pH', 'Soil_Nitrogen', 'Soil_Phosphorus', 'Soil_Potassium']]\n",
        "X_train, X_test, y_train, y_test = train_test_split(X, y, test_size=0.2, random_state=42)"
      ],
      "metadata": {
        "id": "rIrPbuI0Ctri"
      },
      "execution_count": null,
      "outputs": []
    },
    {
      "cell_type": "markdown",
      "source": [
        "**Training the Decision Tree Model**"
      ],
      "metadata": {
        "id": "m8Rbkj4BDUgP"
      }
    },
    {
      "cell_type": "code",
      "source": [
        "dt = DecisionTreeRegressor(random_state=42)\n",
        "dt.fit(X_train, y_train)"
      ],
      "metadata": {
        "colab": {
          "base_uri": "https://localhost:8080/",
          "height": 75
        },
        "id": "WSuMykdECwPj",
        "outputId": "d223d7e4-7486-47a2-8164-db578b987ad8"
      },
      "execution_count": null,
      "outputs": [
        {
          "output_type": "execute_result",
          "data": {
            "text/plain": [
              "DecisionTreeRegressor(random_state=42)"
            ],
            "text/html": [
              "<style>#sk-container-id-1 {color: black;background-color: white;}#sk-container-id-1 pre{padding: 0;}#sk-container-id-1 div.sk-toggleable {background-color: white;}#sk-container-id-1 label.sk-toggleable__label {cursor: pointer;display: block;width: 100%;margin-bottom: 0;padding: 0.3em;box-sizing: border-box;text-align: center;}#sk-container-id-1 label.sk-toggleable__label-arrow:before {content: \"▸\";float: left;margin-right: 0.25em;color: #696969;}#sk-container-id-1 label.sk-toggleable__label-arrow:hover:before {color: black;}#sk-container-id-1 div.sk-estimator:hover label.sk-toggleable__label-arrow:before {color: black;}#sk-container-id-1 div.sk-toggleable__content {max-height: 0;max-width: 0;overflow: hidden;text-align: left;background-color: #f0f8ff;}#sk-container-id-1 div.sk-toggleable__content pre {margin: 0.2em;color: black;border-radius: 0.25em;background-color: #f0f8ff;}#sk-container-id-1 input.sk-toggleable__control:checked~div.sk-toggleable__content {max-height: 200px;max-width: 100%;overflow: auto;}#sk-container-id-1 input.sk-toggleable__control:checked~label.sk-toggleable__label-arrow:before {content: \"▾\";}#sk-container-id-1 div.sk-estimator input.sk-toggleable__control:checked~label.sk-toggleable__label {background-color: #d4ebff;}#sk-container-id-1 div.sk-label input.sk-toggleable__control:checked~label.sk-toggleable__label {background-color: #d4ebff;}#sk-container-id-1 input.sk-hidden--visually {border: 0;clip: rect(1px 1px 1px 1px);clip: rect(1px, 1px, 1px, 1px);height: 1px;margin: -1px;overflow: hidden;padding: 0;position: absolute;width: 1px;}#sk-container-id-1 div.sk-estimator {font-family: monospace;background-color: #f0f8ff;border: 1px dotted black;border-radius: 0.25em;box-sizing: border-box;margin-bottom: 0.5em;}#sk-container-id-1 div.sk-estimator:hover {background-color: #d4ebff;}#sk-container-id-1 div.sk-parallel-item::after {content: \"\";width: 100%;border-bottom: 1px solid gray;flex-grow: 1;}#sk-container-id-1 div.sk-label:hover label.sk-toggleable__label {background-color: #d4ebff;}#sk-container-id-1 div.sk-serial::before {content: \"\";position: absolute;border-left: 1px solid gray;box-sizing: border-box;top: 0;bottom: 0;left: 50%;z-index: 0;}#sk-container-id-1 div.sk-serial {display: flex;flex-direction: column;align-items: center;background-color: white;padding-right: 0.2em;padding-left: 0.2em;position: relative;}#sk-container-id-1 div.sk-item {position: relative;z-index: 1;}#sk-container-id-1 div.sk-parallel {display: flex;align-items: stretch;justify-content: center;background-color: white;position: relative;}#sk-container-id-1 div.sk-item::before, #sk-container-id-1 div.sk-parallel-item::before {content: \"\";position: absolute;border-left: 1px solid gray;box-sizing: border-box;top: 0;bottom: 0;left: 50%;z-index: -1;}#sk-container-id-1 div.sk-parallel-item {display: flex;flex-direction: column;z-index: 1;position: relative;background-color: white;}#sk-container-id-1 div.sk-parallel-item:first-child::after {align-self: flex-end;width: 50%;}#sk-container-id-1 div.sk-parallel-item:last-child::after {align-self: flex-start;width: 50%;}#sk-container-id-1 div.sk-parallel-item:only-child::after {width: 0;}#sk-container-id-1 div.sk-dashed-wrapped {border: 1px dashed gray;margin: 0 0.4em 0.5em 0.4em;box-sizing: border-box;padding-bottom: 0.4em;background-color: white;}#sk-container-id-1 div.sk-label label {font-family: monospace;font-weight: bold;display: inline-block;line-height: 1.2em;}#sk-container-id-1 div.sk-label-container {text-align: center;}#sk-container-id-1 div.sk-container {/* jupyter's `normalize.less` sets `[hidden] { display: none; }` but bootstrap.min.css set `[hidden] { display: none !important; }` so we also need the `!important` here to be able to override the default hidden behavior on the sphinx rendered scikit-learn.org. See: https://github.com/scikit-learn/scikit-learn/issues/21755 */display: inline-block !important;position: relative;}#sk-container-id-1 div.sk-text-repr-fallback {display: none;}</style><div id=\"sk-container-id-1\" class=\"sk-top-container\"><div class=\"sk-text-repr-fallback\"><pre>DecisionTreeRegressor(random_state=42)</pre><b>In a Jupyter environment, please rerun this cell to show the HTML representation or trust the notebook. <br />On GitHub, the HTML representation is unable to render, please try loading this page with nbviewer.org.</b></div><div class=\"sk-container\" hidden><div class=\"sk-item\"><div class=\"sk-estimator sk-toggleable\"><input class=\"sk-toggleable__control sk-hidden--visually\" id=\"sk-estimator-id-1\" type=\"checkbox\" checked><label for=\"sk-estimator-id-1\" class=\"sk-toggleable__label sk-toggleable__label-arrow\">DecisionTreeRegressor</label><div class=\"sk-toggleable__content\"><pre>DecisionTreeRegressor(random_state=42)</pre></div></div></div></div></div>"
            ]
          },
          "metadata": {},
          "execution_count": 9
        }
      ]
    },
    {
      "cell_type": "markdown",
      "source": [
        "**Predicting the Model**"
      ],
      "metadata": {
        "id": "XpoSSKdSDa1F"
      }
    },
    {
      "cell_type": "code",
      "source": [
        "next_years = [2024, 2025]\n",
        "months = list(range(1, 13))\n",
        "predictions = []\n",
        "for year in next_years:\n",
        "    for month in months:\n",
        "        prediction = dt.predict([[year, month]])\n",
        "        predictions.append([year, month] + prediction[0].tolist())\n",
        "\n",
        "predictions_df = pd.DataFrame(predictions, columns=['Year', 'Month', 'Soil_Moisture', 'Soil_Temperature', 'Soil_pH', 'Soil_Nitrogen', 'Soil_Phosphorus', 'Soil_Potassium'])\n",
        "predictions_df.to_csv('soil_predictions_2024_2025.csv', index=False)\n",
        "print(\"Soil Predictions for 2024-2025:\")\n",
        "print(predictions_df)\n"
      ],
      "metadata": {
        "colab": {
          "base_uri": "https://localhost:8080/"
        },
        "id": "wZ6wsEguCy2Q",
        "outputId": "a5f4d2ba-f891-4128-ab6d-dd0f5284deab"
      },
      "execution_count": null,
      "outputs": [
        {
          "output_type": "stream",
          "name": "stdout",
          "text": [
            "Soil Predictions for 2024-2025:\n",
            "    Year  Month  Soil_Moisture  Soil_Temperature   Soil_pH  Soil_Nitrogen  \\\n",
            "0   2024      1      33.675137         22.461055  5.673841       1.574213   \n",
            "1   2024      2      33.675137         22.461055  5.673841       1.574213   \n",
            "2   2024      3      20.682902         34.662881  6.711550       0.974454   \n",
            "3   2024      4      17.378732         14.017034  5.873134       1.070190   \n",
            "4   2024      5      12.407012         23.112785  6.320794       2.464757   \n",
            "5   2024      6      39.084113         31.637678  7.134144       1.015806   \n",
            "6   2024      7      37.881280         23.919072  6.643225       1.059958   \n",
            "7   2024      8      19.710377         20.635911  6.515221       0.984819   \n",
            "8   2024      9      18.658917         24.530956  5.808725       1.462280   \n",
            "9   2024     10      20.098128         13.360367  5.626750       2.479920   \n",
            "10  2024     11      17.639220         27.037568  7.020456       1.691277   \n",
            "11  2024     12      20.466048         33.238229  7.161239       2.430054   \n",
            "12  2025      1      33.675137         22.461055  5.673841       1.574213   \n",
            "13  2025      2      33.675137         22.461055  5.673841       1.574213   \n",
            "14  2025      3      20.682902         34.662881  6.711550       0.974454   \n",
            "15  2025      4      17.378732         14.017034  5.873134       1.070190   \n",
            "16  2025      5      12.407012         23.112785  6.320794       2.464757   \n",
            "17  2025      6      39.084113         31.637678  7.134144       1.015806   \n",
            "18  2025      7      37.881280         23.919072  6.643225       1.059958   \n",
            "19  2025      8      19.710377         20.635911  6.515221       0.984819   \n",
            "20  2025      9      18.658917         24.530956  5.808725       1.462280   \n",
            "21  2025     10      20.098128         13.360367  5.626750       2.479920   \n",
            "22  2025     11      17.639220         27.037568  7.020456       1.691277   \n",
            "23  2025     12      20.466048         33.238229  7.161239       2.430054   \n",
            "\n",
            "    Soil_Phosphorus  Soil_Potassium  \n",
            "0          0.628157        1.169071  \n",
            "1          0.628157        1.169071  \n",
            "2          0.191604        0.398717  \n",
            "3          0.256036        1.365795  \n",
            "4          0.200835        0.717212  \n",
            "5          0.253799        1.069236  \n",
            "6          0.792544        0.443157  \n",
            "7          0.203353        0.993806  \n",
            "8          0.579330        0.267371  \n",
            "9          0.390118        1.252837  \n",
            "10         0.524419        0.735393  \n",
            "11         0.211868        1.150128  \n",
            "12         0.628157        1.169071  \n",
            "13         0.628157        1.169071  \n",
            "14         0.191604        0.398717  \n",
            "15         0.256036        1.365795  \n",
            "16         0.200835        0.717212  \n",
            "17         0.253799        1.069236  \n",
            "18         0.792544        0.443157  \n",
            "19         0.203353        0.993806  \n",
            "20         0.579330        0.267371  \n",
            "21         0.390118        1.252837  \n",
            "22         0.524419        0.735393  \n",
            "23         0.211868        1.150128  \n"
          ]
        },
        {
          "output_type": "stream",
          "name": "stderr",
          "text": [
            "/usr/local/lib/python3.10/dist-packages/sklearn/base.py:439: UserWarning: X does not have valid feature names, but DecisionTreeRegressor was fitted with feature names\n",
            "  warnings.warn(\n",
            "/usr/local/lib/python3.10/dist-packages/sklearn/base.py:439: UserWarning: X does not have valid feature names, but DecisionTreeRegressor was fitted with feature names\n",
            "  warnings.warn(\n",
            "/usr/local/lib/python3.10/dist-packages/sklearn/base.py:439: UserWarning: X does not have valid feature names, but DecisionTreeRegressor was fitted with feature names\n",
            "  warnings.warn(\n",
            "/usr/local/lib/python3.10/dist-packages/sklearn/base.py:439: UserWarning: X does not have valid feature names, but DecisionTreeRegressor was fitted with feature names\n",
            "  warnings.warn(\n",
            "/usr/local/lib/python3.10/dist-packages/sklearn/base.py:439: UserWarning: X does not have valid feature names, but DecisionTreeRegressor was fitted with feature names\n",
            "  warnings.warn(\n",
            "/usr/local/lib/python3.10/dist-packages/sklearn/base.py:439: UserWarning: X does not have valid feature names, but DecisionTreeRegressor was fitted with feature names\n",
            "  warnings.warn(\n",
            "/usr/local/lib/python3.10/dist-packages/sklearn/base.py:439: UserWarning: X does not have valid feature names, but DecisionTreeRegressor was fitted with feature names\n",
            "  warnings.warn(\n",
            "/usr/local/lib/python3.10/dist-packages/sklearn/base.py:439: UserWarning: X does not have valid feature names, but DecisionTreeRegressor was fitted with feature names\n",
            "  warnings.warn(\n",
            "/usr/local/lib/python3.10/dist-packages/sklearn/base.py:439: UserWarning: X does not have valid feature names, but DecisionTreeRegressor was fitted with feature names\n",
            "  warnings.warn(\n",
            "/usr/local/lib/python3.10/dist-packages/sklearn/base.py:439: UserWarning: X does not have valid feature names, but DecisionTreeRegressor was fitted with feature names\n",
            "  warnings.warn(\n",
            "/usr/local/lib/python3.10/dist-packages/sklearn/base.py:439: UserWarning: X does not have valid feature names, but DecisionTreeRegressor was fitted with feature names\n",
            "  warnings.warn(\n",
            "/usr/local/lib/python3.10/dist-packages/sklearn/base.py:439: UserWarning: X does not have valid feature names, but DecisionTreeRegressor was fitted with feature names\n",
            "  warnings.warn(\n",
            "/usr/local/lib/python3.10/dist-packages/sklearn/base.py:439: UserWarning: X does not have valid feature names, but DecisionTreeRegressor was fitted with feature names\n",
            "  warnings.warn(\n",
            "/usr/local/lib/python3.10/dist-packages/sklearn/base.py:439: UserWarning: X does not have valid feature names, but DecisionTreeRegressor was fitted with feature names\n",
            "  warnings.warn(\n",
            "/usr/local/lib/python3.10/dist-packages/sklearn/base.py:439: UserWarning: X does not have valid feature names, but DecisionTreeRegressor was fitted with feature names\n",
            "  warnings.warn(\n",
            "/usr/local/lib/python3.10/dist-packages/sklearn/base.py:439: UserWarning: X does not have valid feature names, but DecisionTreeRegressor was fitted with feature names\n",
            "  warnings.warn(\n",
            "/usr/local/lib/python3.10/dist-packages/sklearn/base.py:439: UserWarning: X does not have valid feature names, but DecisionTreeRegressor was fitted with feature names\n",
            "  warnings.warn(\n",
            "/usr/local/lib/python3.10/dist-packages/sklearn/base.py:439: UserWarning: X does not have valid feature names, but DecisionTreeRegressor was fitted with feature names\n",
            "  warnings.warn(\n",
            "/usr/local/lib/python3.10/dist-packages/sklearn/base.py:439: UserWarning: X does not have valid feature names, but DecisionTreeRegressor was fitted with feature names\n",
            "  warnings.warn(\n",
            "/usr/local/lib/python3.10/dist-packages/sklearn/base.py:439: UserWarning: X does not have valid feature names, but DecisionTreeRegressor was fitted with feature names\n",
            "  warnings.warn(\n",
            "/usr/local/lib/python3.10/dist-packages/sklearn/base.py:439: UserWarning: X does not have valid feature names, but DecisionTreeRegressor was fitted with feature names\n",
            "  warnings.warn(\n",
            "/usr/local/lib/python3.10/dist-packages/sklearn/base.py:439: UserWarning: X does not have valid feature names, but DecisionTreeRegressor was fitted with feature names\n",
            "  warnings.warn(\n",
            "/usr/local/lib/python3.10/dist-packages/sklearn/base.py:439: UserWarning: X does not have valid feature names, but DecisionTreeRegressor was fitted with feature names\n",
            "  warnings.warn(\n",
            "/usr/local/lib/python3.10/dist-packages/sklearn/base.py:439: UserWarning: X does not have valid feature names, but DecisionTreeRegressor was fitted with feature names\n",
            "  warnings.warn(\n"
          ]
        }
      ]
    },
    {
      "cell_type": "markdown",
      "source": [
        "**Combining the data and generating the result**"
      ],
      "metadata": {
        "id": "TahcY20MDdnP"
      }
    },
    {
      "cell_type": "code",
      "source": [
        "def ultimate_prediction(predictions_df):\n",
        "    avg_moisture = predictions_df['Soil_Moisture'].mean()\n",
        "    avg_temperature = predictions_df['Soil_Temperature'].mean()\n",
        "    avg_ph = predictions_df['Soil_pH'].mean()\n",
        "    avg_nitrogen = predictions_df['Soil_Nitrogen'].mean()\n",
        "    avg_phosphorus = predictions_df['Soil_Phosphorus'].mean()\n",
        "    avg_potassium = predictions_df['Soil_Potassium'].mean()\n",
        "\n",
        "    print(\"\\nUltimate Soil Prediction for 2024-2025:\")\n",
        "    print(f\"Average Soil Moisture: {avg_moisture:.2f}\")\n",
        "    print(f\"Average Soil Temperature: {avg_temperature:.2f}\")\n",
        "    print(f\"Average Soil pH: {avg_ph:.2f}\")\n",
        "    print(f\"Average Soil Nitrogen: {avg_nitrogen:.2f}\")\n",
        "    print(f\"Average Soil Phosphorus: {avg_phosphorus:.2f}\")\n",
        "    print(f\"Average Soil Potassium: {avg_potassium:.2f}\")\n",
        "    if avg_moisture > 30 and avg_temperature > 25 and avg_ph > 6.5 and avg_nitrogen > 1.5 and avg_phosphorus > 0.5 and avg_potassium > 1.0:\n",
        "        soil_condition = \"Good\"\n",
        "    elif avg_moisture > 25 and avg_temperature > 20 and avg_ph > 6.0 and avg_nitrogen > 1.0 and avg_phosphorus > 0.3 and avg_potassium > 0.8:\n",
        "        soil_condition = \"Mid-Good\"\n",
        "    elif avg_moisture > 20 and avg_temperature > 15 and avg_ph > 5.5 and avg_nitrogen > 0.8 and avg_phosphorus > 0.2 and avg_potassium > 0.5:\n",
        "        soil_condition = \"Average\"\n",
        "    elif avg_moisture > 15 and avg_temperature > 10 and avg_ph > 5.0 and avg_nitrogen > 0.5 and avg_phosphorus > 0.1 and avg_potassium > 0.3:\n",
        "        soil_condition = \"Mid-Bad\"\n",
        "    else:\n",
        "        soil_condition = \"Bad\"\n",
        "\n",
        "    print(f\"Ultimate Soil Condition: {soil_condition}\")\n",
        "ultimate_prediction(predictions_df)\n"
      ],
      "metadata": {
        "colab": {
          "base_uri": "https://localhost:8080/"
        },
        "id": "PMdSavftC1Ro",
        "outputId": "662ab32e-412f-4379-dcb1-87ce3109a22d"
      },
      "execution_count": null,
      "outputs": [
        {
          "output_type": "stream",
          "name": "stdout",
          "text": [
            "\n",
            "Ultimate Soil Prediction for 2024-2025:\n",
            "Average Soil Moisture: 24.28\n",
            "Average Soil Temperature: 24.26\n",
            "Average Soil pH: 6.35\n",
            "Average Soil Nitrogen: 1.57\n",
            "Average Soil Phosphorus: 0.41\n",
            "Average Soil Potassium: 0.89\n",
            "Ultimate Soil Condition: Average\n"
          ]
        }
      ]
    },
    {
      "cell_type": "markdown",
      "source": [
        "**Saving the Prediction File**"
      ],
      "metadata": {
        "id": "U2ESuePQDjB0"
      }
    },
    {
      "cell_type": "code",
      "source": [
        "joblib.dump(dt, 'decision_tree_soil_model_10years.pkl')"
      ],
      "metadata": {
        "colab": {
          "base_uri": "https://localhost:8080/"
        },
        "id": "48LaBHCSC5mU",
        "outputId": "a5421f0c-0832-47c1-be09-bd29c8605325"
      },
      "execution_count": null,
      "outputs": [
        {
          "output_type": "execute_result",
          "data": {
            "text/plain": [
              "['decision_tree_soil_model_10years.pkl']"
            ]
          },
          "metadata": {},
          "execution_count": 12
        }
      ]
    }
  ]
}