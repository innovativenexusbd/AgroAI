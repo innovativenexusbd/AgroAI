{
  "nbformat": 4,
  "nbformat_minor": 0,
  "metadata": {
    "colab": {
      "provenance": [],
      "authorship_tag": "ABX9TyMkRjbAiOO/Ktsr/Rug58zG",
      "include_colab_link": true
    },
    "kernelspec": {
      "name": "python3",
      "display_name": "Python 3"
    },
    "language_info": {
      "name": "python"
    }
  },
  "cells": [
    {
      "cell_type": "markdown",
      "metadata": {
        "id": "view-in-github",
        "colab_type": "text"
      },
      "source": [
        "<a href=\"https://colab.research.google.com/github/innovativenexusbd/AgroAI/blob/main/disasteranalysisandprediction.ipynb\" target=\"_parent\"><img src=\"https://colab.research.google.com/assets/colab-badge.svg\" alt=\"Open In Colab\"/></a>"
      ]
    },
    {
      "cell_type": "markdown",
      "source": [
        "**Importing**"
      ],
      "metadata": {
        "id": "f7VnN-tVr4hi"
      }
    },
    {
      "cell_type": "code",
      "source": [
        "import numpy as np\n",
        "import pandas as pd\n",
        "from sklearn.model_selection import train_test_split\n",
        "from sklearn.ensemble import RandomForestRegressor\n",
        "import matplotlib.pyplot as plt"
      ],
      "metadata": {
        "id": "6HU9Z_Hlq3_n"
      },
      "execution_count": 3,
      "outputs": []
    },
    {
      "cell_type": "markdown",
      "source": [
        "**Loading the Data, Preparing and Splitting the Data**"
      ],
      "metadata": {
        "id": "Bta6RbUar8Qx"
      }
    },
    {
      "cell_type": "code",
      "source": [
        "disaster_df = pd.read_csv('disaster_data.csv')\n",
        "X = disaster_df[['Year', 'Month', 'DisasterType', 'Occurrences']]\n",
        "X = pd.get_dummies(X, columns=['DisasterType'], drop_first=True)  # Convert categorical variable to dummy/indicator variables\n",
        "y_intensity = disaster_df['Intensity']\n",
        "y_damage = disaster_df['CropDamage']\n",
        "X_train, X_test, y_intensity_train, y_intensity_test, y_damage_train, y_damage_test = train_test_split(X, y_intensity, y_damage, test_size=0.2, random_state=42)\n"
      ],
      "metadata": {
        "id": "9lviHAq_rg7g"
      },
      "execution_count": null,
      "outputs": []
    },
    {
      "cell_type": "markdown",
      "source": [
        "**Initializing Random Forest Regressor and Train the Model**"
      ],
      "metadata": {
        "id": "ZuEyEeltsDS-"
      }
    },
    {
      "cell_type": "code",
      "source": [
        "intensity_model = RandomForestRegressor(random_state=42)\n",
        "damage_model = RandomForestRegressor(random_state=42)\n",
        "intensity_model.fit(X_train, y_intensity_train)\n",
        "damage_model.fit(X_train, y_damage_train)\n"
      ],
      "metadata": {
        "id": "JMr-D6BHrmx4"
      },
      "execution_count": null,
      "outputs": []
    },
    {
      "cell_type": "markdown",
      "source": [
        "**Predicting the Future of the Disasters**"
      ],
      "metadata": {
        "id": "sEJI4G3ZsXy0"
      }
    },
    {
      "cell_type": "code",
      "source": [
        "future_years = np.arange(2024, 2026)\n",
        "future_months = np.tile(np.arange(1, 13), len(future_years))\n",
        "future_disasters = pd.DataFrame({\n",
        "    'Year': np.repeat(future_years, 12),\n",
        "    'Month': future_months,\n",
        "    'DisasterType': np.random.choice(['Flood', 'Drought', 'Pest', 'Storm'], len(future_months)),\n",
        "    'Occurrences': np.random.randint(0, 5, len(future_months))\n",
        "})\n",
        "future_X = pd.get_dummies(future_disasters, columns=['DisasterType'], drop_first=True)\n",
        "missing_cols = set(X_train.columns) - set(future_X.columns)\n",
        "for c in missing_cols:\n",
        "    future_X[c] = 0\n",
        "future_X = future_X[X_train.columns]\n",
        "future_disasters['PredictedIntensity'] = intensity_model.predict(future_X)\n",
        "future_disasters['PredictedDamage'] = damage_model.predict(future_X)"
      ],
      "metadata": {
        "id": "R-0JA9BDrsD1"
      },
      "execution_count": null,
      "outputs": []
    },
    {
      "cell_type": "markdown",
      "source": [
        "**Saving the Result**"
      ],
      "metadata": {
        "id": "DNB4lsN1slv9"
      }
    },
    {
      "cell_type": "code",
      "source": [
        "future_disasters.to_csv('future_disaster_analysis.csv', index=False)\n",
        "print(\"Future Disaster Analysis:\")\n",
        "print(future_disasters.head(12))"
      ],
      "metadata": {
        "id": "wC76vB-VrvDu"
      },
      "execution_count": null,
      "outputs": []
    },
    {
      "cell_type": "markdown",
      "source": [
        "**Visualizing the Results**"
      ],
      "metadata": {
        "id": "-m_I7lJWsrig"
      }
    },
    {
      "cell_type": "code",
      "source": [
        "plt.figure(figsize=(12, 8))\n",
        "plt.subplot(2, 1, 1)\n",
        "plt.plot(future_disasters['Month'], future_disasters['PredictedIntensity'], color='blue', marker='o')\n",
        "plt.xlabel('Month')\n",
        "plt.ylabel('Predicted Intensity')\n",
        "plt.title('Predicted Disaster Intensity by Month')\n",
        "plt.subplot(2, 1, 2)\n",
        "plt.plot(future_disasters['Month'], future_disasters['PredictedDamage'], color='red', marker='o')\n",
        "plt.xlabel('Month')\n",
        "plt.ylabel('Predicted Crop Damage')\n",
        "plt.title('Predicted Crop Damage by Month')\n",
        "plt.tight_layout()\n",
        "plt.show()"
      ],
      "metadata": {
        "id": "25F-C3PlrwxE"
      },
      "execution_count": null,
      "outputs": []
    }
  ]
}