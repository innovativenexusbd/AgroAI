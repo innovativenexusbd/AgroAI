{
  "nbformat": 4,
  "nbformat_minor": 0,
  "metadata": {
    "colab": {
      "provenance": [],
      "authorship_tag": "ABX9TyOq63jC/vCE+32Fz3Q92XSE",
      "include_colab_link": true
    },
    "kernelspec": {
      "name": "python3",
      "display_name": "Python 3"
    },
    "language_info": {
      "name": "python"
    }
  },
  "cells": [
    {
      "cell_type": "markdown",
      "metadata": {
        "id": "view-in-github",
        "colab_type": "text"
      },
      "source": [
        "<a href=\"https://colab.research.google.com/github/innovativenexusbd/AgroAI/blob/main/marketdataanalysisafterselling.ipynb\" target=\"_parent\"><img src=\"https://colab.research.google.com/assets/colab-badge.svg\" alt=\"Open In Colab\"/></a>"
      ]
    },
    {
      "cell_type": "markdown",
      "source": [
        "**Import**"
      ],
      "metadata": {
        "id": "G_9UqQ89ncbj"
      }
    },
    {
      "cell_type": "code",
      "source": [
        "import numpy as np\n",
        "import pandas as pd\n",
        "from sklearn.model_selection import train_test_split\n",
        "from sklearn.tree import DecisionTreeRegressor\n",
        "import matplotlib.pyplot as plt"
      ],
      "metadata": {
        "id": "OkL9Nr7vedLc"
      },
      "execution_count": 5,
      "outputs": []
    },
    {
      "cell_type": "markdown",
      "source": [
        "**Loading Market Data, Preparing the Data and Splitting the Data**"
      ],
      "metadata": {
        "id": "AUTnI9rlnet_"
      }
    },
    {
      "cell_type": "code",
      "source": [
        "market_df = pd.read_csv('market_data.csv')\n",
        "X = market_df[['Year', 'Crop']]\n",
        "X = pd.get_dummies(X, columns=['Crop'], drop_first=True)  # Convert categorical variable to dummy/indicator variables\n",
        "y_revenue = market_df['Revenue']\n",
        "y_buyers = market_df['TotalBuyers']\n",
        "y_export = market_df['TotalExport']\n",
        "y_leftovers = market_df['TotalLeftovers']\n",
        "X_train, X_test, y_revenue_train, y_revenue_test, y_buyers_train, y_buyers_test, y_export_train, y_export_test, y_leftovers_train, y_leftovers_test = train_test_split(X, y_revenue, y_buyers, y_export, y_leftovers, test_size=0.2, random_state=42)"
      ],
      "metadata": {
        "id": "o3267XgvnFft"
      },
      "execution_count": 6,
      "outputs": []
    },
    {
      "cell_type": "markdown",
      "source": [
        "**Initiatizing the Decision Tree Model and Train the Model**"
      ],
      "metadata": {
        "id": "5iGLk3Tunzt0"
      }
    },
    {
      "cell_type": "code",
      "source": [
        "revenue_model = DecisionTreeRegressor(random_state=42)\n",
        "buyers_model = DecisionTreeRegressor(random_state=42)\n",
        "export_model = DecisionTreeRegressor(random_state=42)\n",
        "leftovers_model = DecisionTreeRegressor(random_state=42)\n",
        "revenue_model.fit(X_train, y_revenue_train)\n",
        "buyers_model.fit(X_train, y_buyers_train)\n",
        "export_model.fit(X_train, y_export_train)\n",
        "leftovers_model.fit(X_train, y_leftovers_train)"
      ],
      "metadata": {
        "id": "XMPF8_PVnP3S"
      },
      "execution_count": null,
      "outputs": []
    },
    {
      "cell_type": "markdown",
      "source": [
        "**Predicting the Future Values and Categorize the Results**"
      ],
      "metadata": {
        "id": "CQuRVO6Hn8iB"
      }
    },
    {
      "cell_type": "code",
      "source": [
        "future_years = np.arange(2024, 2026)\n",
        "future_crops = pd.DataFrame({\n",
        "    'Year': np.tile(future_years, num_crops),\n",
        "    'Crop': np.repeat(crops, len(future_years))\n",
        "})\n",
        "future_X = pd.get_dummies(future_crops, columns=['Crop'], drop_first=True)\n",
        "missing_cols = set(X_train.columns) - set(future_X.columns)\n",
        "for c in missing_cols:\n",
        "    future_X[c] = 0\n",
        "future_X = future_X[X_train.columns]\n",
        "future_crops['PredictedRevenue'] = revenue_model.predict(future_X)\n",
        "future_crops['PredictedBuyers'] = buyers_model.predict(future_X)\n",
        "future_crops['PredictedExport'] = export_model.predict(future_X)\n",
        "future_crops['PredictedLeftovers'] = leftovers_model.predict(future_X)\n",
        "def categorize_result(row):\n",
        "    if row['PredictedRevenue'] > 8000 and row['PredictedBuyers'] > 800 and row['PredictedExport'] > 800 and row['PredictedLeftovers'] < 20:\n",
        "        return 'Very Good'\n",
        "    elif row['PredictedRevenue'] > 6000 and row['PredictedBuyers'] > 600 and row['PredictedExport'] > 600 and row['PredictedLeftovers'] < 40:\n",
        "        return 'Good'\n",
        "    elif row['PredictedRevenue'] > 4000 and row['PredictedBuyers'] > 400 and row['PredictedExport'] > 400 and row['PredictedLeftovers'] < 60:\n",
        "        return 'Average'\n",
        "    elif row['PredictedRevenue'] > 2000 and row['PredictedBuyers'] > 200 and row['PredictedExport'] > 200 and row['PredictedLeftovers'] < 80:\n",
        "        return 'Bad'\n",
        "    else:\n",
        "        return 'Very Bad'\n",
        "future_crops['Result'] = future_crops.apply(categorize_result, axis=1)\n"
      ],
      "metadata": {
        "id": "T7khi5qDnU7q"
      },
      "execution_count": null,
      "outputs": []
    },
    {
      "cell_type": "markdown",
      "source": [
        "**Saving the Results**"
      ],
      "metadata": {
        "id": "BWXVNrjGoOpU"
      }
    },
    {
      "cell_type": "code",
      "source": [
        "future_crops.to_csv('future_market_analysis.csv', index=False)\n",
        "print(\"Future Market Analysis:\")\n",
        "print(future_crops)"
      ],
      "metadata": {
        "id": "sbcjR22knX-Q"
      },
      "execution_count": null,
      "outputs": []
    },
    {
      "cell_type": "markdown",
      "source": [
        "**Visualizing the Results**"
      ],
      "metadata": {
        "id": "iJ3SZo_uoWbF"
      }
    },
    {
      "cell_type": "code",
      "source": [
        "plt.figure(figsize=(12, 8))\n",
        "plt.subplot(2, 2, 1)\n",
        "plt.barh(future_crops['Crop'], future_crops['PredictedRevenue'], color='skyblue')\n",
        "plt.xlabel('Predicted Revenue')\n",
        "plt.title('Predicted Revenue by Crop')\n",
        "plt.subplot(2, 2, 2)\n",
        "plt.barh(future_crops['Crop'], future_crops['PredictedBuyers'], color='lightgreen')\n",
        "plt.xlabel('Predicted Buyers')\n",
        "plt.title('Predicted Buyers by Crop')\n",
        "plt.subplot(2, 2, 3)\n",
        "plt.barh(future_crops['Crop'], future_crops['PredictedExport'], color='lightcoral')\n",
        "plt.xlabel('Predicted Export')\n",
        "plt.title('Predicted Export by Crop')\n",
        "plt.subplot(2, 2, 4)\n",
        "plt.barh(future_crops['Crop'], future_crops['PredictedLeftovers'], color='gold')\n",
        "plt.xlabel('Predicted Leftovers')\n",
        "plt.title('Predicted Leftovers by Crop')\n",
        "plt.tight_layout()\n",
        "plt.show()\n"
      ],
      "metadata": {
        "id": "FILD_VV1naiR"
      },
      "execution_count": null,
      "outputs": []
    }
  ]
}