{
  "nbformat": 4,
  "nbformat_minor": 0,
  "metadata": {
    "colab": {
      "provenance": [],
      "authorship_tag": "ABX9TyPr4JhFTxCjnX5k6HUZV+jI",
      "include_colab_link": true
    },
    "kernelspec": {
      "name": "python3",
      "display_name": "Python 3"
    },
    "language_info": {
      "name": "python"
    }
  },
  "cells": [
    {
      "cell_type": "markdown",
      "metadata": {
        "id": "view-in-github",
        "colab_type": "text"
      },
      "source": [
        "<a href=\"https://colab.research.google.com/github/innovativenexusbd/AgroAI/blob/main/waterresource.ipynb\" target=\"_parent\"><img src=\"https://colab.research.google.com/assets/colab-badge.svg\" alt=\"Open In Colab\"/></a>"
      ]
    },
    {
      "cell_type": "markdown",
      "source": [
        "***Water Resource Analysis***"
      ],
      "metadata": {
        "id": "3KS6A6tkTq0w"
      }
    },
    {
      "cell_type": "markdown",
      "source": [
        "Importing"
      ],
      "metadata": {
        "id": "13-OJl4x1FAt"
      }
    },
    {
      "cell_type": "code",
      "execution_count": null,
      "metadata": {
        "id": "Ano77bWi3v0Q"
      },
      "outputs": [],
      "source": [
        "import pandas as pd\n",
        "from sklearn.ensemble import RandomForestClassifier\n",
        "from sklearn.model_selection import train_test_split\n",
        "from sklearn.metrics import classification_report, confusion_matrix\n",
        "import matplotlib.pyplot as plt"
      ]
    },
    {
      "cell_type": "markdown",
      "source": [
        "Loading the Dataset, setting the thresholds and evaluate the quality"
      ],
      "metadata": {
        "id": "OWAXx2ud1J07"
      }
    },
    {
      "cell_type": "code",
      "source": [
        "sample_df = pd.read_csv('synthetic_water_data.csv')\n",
        "#thresholds needs to be adjusted\n",
        "quality_thresholds = {\n",
        "    'pH': (6.5, 8.5),\n",
        "    'Turbidity': 5,\n",
        "    'Dissolved Oxygen': 8,\n",
        "    'Nitrate': 10,\n",
        "    'Phosphate': 1,\n",
        "}\n",
        "def evaluate_quality(row):\n",
        "    if (quality_thresholds['pH'][0] <= row['pH'] <= quality_thresholds['pH'][1] and\n",
        "        row['Turbidity'] <= quality_thresholds['Turbidity'] and\n",
        "        row['Dissolved Oxygen'] >= quality_thresholds['Dissolved Oxygen'] and\n",
        "        row['Nitrate'] <= quality_thresholds['Nitrate'] and\n",
        "        row['Phosphate'] <= quality_thresholds['Phosphate']):\n",
        "        return 1  # Good quality\n",
        "    else:\n",
        "        return 0  # Poor quality\n",
        "sample_df['Quality'] = sample_df.apply(evaluate_quality, axis=1)\n",
        "\n"
      ],
      "metadata": {
        "id": "8io6j5dImDMr"
      },
      "execution_count": null,
      "outputs": []
    },
    {
      "cell_type": "markdown",
      "source": [
        "Prepare and Split the Dataset"
      ],
      "metadata": {
        "id": "Wtx2INOk1Pui"
      }
    },
    {
      "cell_type": "code",
      "source": [
        "X = sample_df.drop(['id', 'Quality'], axis=1)\n",
        "y = sample_df['Quality']\n",
        "X_train, X_test, y_train, y_test = train_test_split(X, y, test_size=0.2, random_state=42)"
      ],
      "metadata": {
        "id": "mv4WF7pt0jas"
      },
      "execution_count": null,
      "outputs": []
    },
    {
      "cell_type": "markdown",
      "source": [
        "Initiatize and Train Random Forest Model"
      ],
      "metadata": {
        "id": "7SygRBWW1SuG"
      }
    },
    {
      "cell_type": "code",
      "source": [
        "rf = RandomForestClassifier(n_estimators=100, random_state=42)\n",
        "rf.fit(X_train, y_train)\n"
      ],
      "metadata": {
        "id": "ZsqpSkR5mFwR",
        "colab": {
          "base_uri": "https://localhost:8080/",
          "height": 75
        },
        "outputId": "9ed4fcb6-09ed-4f48-e9c0-d7e051abc5d3"
      },
      "execution_count": null,
      "outputs": [
        {
          "output_type": "execute_result",
          "data": {
            "text/plain": [
              "RandomForestClassifier(random_state=42)"
            ],
            "text/html": [
              "<style>#sk-container-id-1 {color: black;background-color: white;}#sk-container-id-1 pre{padding: 0;}#sk-container-id-1 div.sk-toggleable {background-color: white;}#sk-container-id-1 label.sk-toggleable__label {cursor: pointer;display: block;width: 100%;margin-bottom: 0;padding: 0.3em;box-sizing: border-box;text-align: center;}#sk-container-id-1 label.sk-toggleable__label-arrow:before {content: \"▸\";float: left;margin-right: 0.25em;color: #696969;}#sk-container-id-1 label.sk-toggleable__label-arrow:hover:before {color: black;}#sk-container-id-1 div.sk-estimator:hover label.sk-toggleable__label-arrow:before {color: black;}#sk-container-id-1 div.sk-toggleable__content {max-height: 0;max-width: 0;overflow: hidden;text-align: left;background-color: #f0f8ff;}#sk-container-id-1 div.sk-toggleable__content pre {margin: 0.2em;color: black;border-radius: 0.25em;background-color: #f0f8ff;}#sk-container-id-1 input.sk-toggleable__control:checked~div.sk-toggleable__content {max-height: 200px;max-width: 100%;overflow: auto;}#sk-container-id-1 input.sk-toggleable__control:checked~label.sk-toggleable__label-arrow:before {content: \"▾\";}#sk-container-id-1 div.sk-estimator input.sk-toggleable__control:checked~label.sk-toggleable__label {background-color: #d4ebff;}#sk-container-id-1 div.sk-label input.sk-toggleable__control:checked~label.sk-toggleable__label {background-color: #d4ebff;}#sk-container-id-1 input.sk-hidden--visually {border: 0;clip: rect(1px 1px 1px 1px);clip: rect(1px, 1px, 1px, 1px);height: 1px;margin: -1px;overflow: hidden;padding: 0;position: absolute;width: 1px;}#sk-container-id-1 div.sk-estimator {font-family: monospace;background-color: #f0f8ff;border: 1px dotted black;border-radius: 0.25em;box-sizing: border-box;margin-bottom: 0.5em;}#sk-container-id-1 div.sk-estimator:hover {background-color: #d4ebff;}#sk-container-id-1 div.sk-parallel-item::after {content: \"\";width: 100%;border-bottom: 1px solid gray;flex-grow: 1;}#sk-container-id-1 div.sk-label:hover label.sk-toggleable__label {background-color: #d4ebff;}#sk-container-id-1 div.sk-serial::before {content: \"\";position: absolute;border-left: 1px solid gray;box-sizing: border-box;top: 0;bottom: 0;left: 50%;z-index: 0;}#sk-container-id-1 div.sk-serial {display: flex;flex-direction: column;align-items: center;background-color: white;padding-right: 0.2em;padding-left: 0.2em;position: relative;}#sk-container-id-1 div.sk-item {position: relative;z-index: 1;}#sk-container-id-1 div.sk-parallel {display: flex;align-items: stretch;justify-content: center;background-color: white;position: relative;}#sk-container-id-1 div.sk-item::before, #sk-container-id-1 div.sk-parallel-item::before {content: \"\";position: absolute;border-left: 1px solid gray;box-sizing: border-box;top: 0;bottom: 0;left: 50%;z-index: -1;}#sk-container-id-1 div.sk-parallel-item {display: flex;flex-direction: column;z-index: 1;position: relative;background-color: white;}#sk-container-id-1 div.sk-parallel-item:first-child::after {align-self: flex-end;width: 50%;}#sk-container-id-1 div.sk-parallel-item:last-child::after {align-self: flex-start;width: 50%;}#sk-container-id-1 div.sk-parallel-item:only-child::after {width: 0;}#sk-container-id-1 div.sk-dashed-wrapped {border: 1px dashed gray;margin: 0 0.4em 0.5em 0.4em;box-sizing: border-box;padding-bottom: 0.4em;background-color: white;}#sk-container-id-1 div.sk-label label {font-family: monospace;font-weight: bold;display: inline-block;line-height: 1.2em;}#sk-container-id-1 div.sk-label-container {text-align: center;}#sk-container-id-1 div.sk-container {/* jupyter's `normalize.less` sets `[hidden] { display: none; }` but bootstrap.min.css set `[hidden] { display: none !important; }` so we also need the `!important` here to be able to override the default hidden behavior on the sphinx rendered scikit-learn.org. See: https://github.com/scikit-learn/scikit-learn/issues/21755 */display: inline-block !important;position: relative;}#sk-container-id-1 div.sk-text-repr-fallback {display: none;}</style><div id=\"sk-container-id-1\" class=\"sk-top-container\"><div class=\"sk-text-repr-fallback\"><pre>RandomForestClassifier(random_state=42)</pre><b>In a Jupyter environment, please rerun this cell to show the HTML representation or trust the notebook. <br />On GitHub, the HTML representation is unable to render, please try loading this page with nbviewer.org.</b></div><div class=\"sk-container\" hidden><div class=\"sk-item\"><div class=\"sk-estimator sk-toggleable\"><input class=\"sk-toggleable__control sk-hidden--visually\" id=\"sk-estimator-id-1\" type=\"checkbox\" checked><label for=\"sk-estimator-id-1\" class=\"sk-toggleable__label sk-toggleable__label-arrow\">RandomForestClassifier</label><div class=\"sk-toggleable__content\"><pre>RandomForestClassifier(random_state=42)</pre></div></div></div></div></div>"
            ]
          },
          "metadata": {},
          "execution_count": 15
        }
      ]
    },
    {
      "cell_type": "markdown",
      "source": [
        "Prediction, classification and Identifying the Best Water Source"
      ],
      "metadata": {
        "id": "WWlOaVw61cbD"
      }
    },
    {
      "cell_type": "code",
      "source": [
        "y_pred = rf.predict(X_test)\n",
        "print(\"Classification Report:\")\n",
        "print(classification_report(y_test, y_pred))\n",
        "print(\"Confusion Matrix:\")\n",
        "print(confusion_matrix(y_test, y_pred))\n",
        "sample_df['Prediction'] = rf.predict(X)\n",
        "best_sources = sample_df[sample_df['Prediction'] == 1]"
      ],
      "metadata": {
        "colab": {
          "base_uri": "https://localhost:8080/"
        },
        "id": "vLioTdkZ0oHZ",
        "outputId": "7083a18c-24fd-4b01-957c-9cf18ed1d3c5"
      },
      "execution_count": null,
      "outputs": [
        {
          "output_type": "stream",
          "name": "stdout",
          "text": [
            "Classification Report:\n",
            "              precision    recall  f1-score   support\n",
            "\n",
            "           0       0.99      1.00      1.00       199\n",
            "           1       0.00      0.00      0.00         1\n",
            "\n",
            "    accuracy                           0.99       200\n",
            "   macro avg       0.50      0.50      0.50       200\n",
            "weighted avg       0.99      0.99      0.99       200\n",
            "\n",
            "Confusion Matrix:\n",
            "[[199   0]\n",
            " [  1   0]]\n"
          ]
        },
        {
          "output_type": "stream",
          "name": "stderr",
          "text": [
            "/usr/local/lib/python3.10/dist-packages/sklearn/metrics/_classification.py:1344: UndefinedMetricWarning: Precision and F-score are ill-defined and being set to 0.0 in labels with no predicted samples. Use `zero_division` parameter to control this behavior.\n",
            "  _warn_prf(average, modifier, msg_start, len(result))\n",
            "/usr/local/lib/python3.10/dist-packages/sklearn/metrics/_classification.py:1344: UndefinedMetricWarning: Precision and F-score are ill-defined and being set to 0.0 in labels with no predicted samples. Use `zero_division` parameter to control this behavior.\n",
            "  _warn_prf(average, modifier, msg_start, len(result))\n",
            "/usr/local/lib/python3.10/dist-packages/sklearn/metrics/_classification.py:1344: UndefinedMetricWarning: Precision and F-score are ill-defined and being set to 0.0 in labels with no predicted samples. Use `zero_division` parameter to control this behavior.\n",
            "  _warn_prf(average, modifier, msg_start, len(result))\n"
          ]
        }
      ]
    },
    {
      "cell_type": "markdown",
      "source": [
        "Saving the Data"
      ],
      "metadata": {
        "id": "bkgQbrYb1jjZ"
      }
    },
    {
      "cell_type": "code",
      "source": [
        "sample_df.to_csv('water_quality_predictions.csv', index=False)\n",
        "best_sources.to_csv('best_water_sources.csv', index=False)\n",
        "print(\"Water Quality Predictions Saved:\")\n",
        "print(sample_df.head())\n",
        "print(\"\\nBest Water Sources:\")\n",
        "print(best_sources.head())"
      ],
      "metadata": {
        "colab": {
          "base_uri": "https://localhost:8080/"
        },
        "id": "-io83S3e0uFO",
        "outputId": "2c24d0d0-dd76-4401-d8f9-45a24a51d969"
      },
      "execution_count": null,
      "outputs": [
        {
          "output_type": "stream",
          "name": "stdout",
          "text": [
            "Water Quality Predictions Saved:\n",
            "   id        pH  Turbidity  Dissolved Oxygen    Nitrate  Phosphate  Quality  \\\n",
            "0   1  6.310890   1.851329          7.355351  33.635150   2.859979        0   \n",
            "1   2  8.327500   5.419009          7.222809  39.834070   4.027162        0   \n",
            "2   3  7.561979   8.729458         13.156291  12.523395   3.800805        0   \n",
            "3   4  7.095305   7.322249          7.245916  31.243705   0.769500        0   \n",
            "4   5  5.546065   8.065611          7.447548  28.587299   0.746247        0   \n",
            "\n",
            "   Prediction  \n",
            "0           0  \n",
            "1           0  \n",
            "2           0  \n",
            "3           0  \n",
            "4           0  \n",
            "\n",
            "Best Water Sources:\n",
            "      id        pH  Turbidity  Dissolved Oxygen   Nitrate  Phosphate  Quality  \\\n",
            "9     10  7.478254   4.894250          9.388141  2.591790   0.283402        1   \n",
            "161  162  7.213070   1.288699         10.588357  1.095666   0.425282        1   \n",
            "378  379  7.850640   3.592334          9.017776  4.419247   0.726633        1   \n",
            "503  504  7.848283   3.412478         13.604424  1.501300   0.032322        1   \n",
            "518  519  8.455466   2.434823         11.189498  3.551744   0.981472        1   \n",
            "\n",
            "     Prediction  \n",
            "9             1  \n",
            "161           1  \n",
            "378           1  \n",
            "503           1  \n",
            "518           1  \n"
          ]
        }
      ]
    }
  ]
}