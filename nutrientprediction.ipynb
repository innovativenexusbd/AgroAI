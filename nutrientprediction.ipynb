{
  "nbformat": 4,
  "nbformat_minor": 0,
  "metadata": {
    "colab": {
      "provenance": [],
      "authorship_tag": "ABX9TyNSSi3MMjQuD5Af8C3IVQi+",
      "include_colab_link": true
    },
    "kernelspec": {
      "name": "python3",
      "display_name": "Python 3"
    },
    "language_info": {
      "name": "python"
    }
  },
  "cells": [
    {
      "cell_type": "markdown",
      "metadata": {
        "id": "view-in-github",
        "colab_type": "text"
      },
      "source": [
        "<a href=\"https://colab.research.google.com/github/innovativenexusbd/AgroAI/blob/main/nutrientprediction.ipynb\" target=\"_parent\"><img src=\"https://colab.research.google.com/assets/colab-badge.svg\" alt=\"Open In Colab\"/></a>"
      ]
    },
    {
      "cell_type": "markdown",
      "source": [
        "Importing"
      ],
      "metadata": {
        "id": "6MhlKwI0WdWs"
      }
    },
    {
      "cell_type": "code",
      "execution_count": 18,
      "metadata": {
        "id": "8kpjROCHOzlJ"
      },
      "outputs": [],
      "source": [
        "import pandas as pd\n",
        "import numpy as np\n",
        "from sklearn.model_selection import train_test_split\n",
        "from sklearn.neighbors import KNeighborsClassifier\n",
        "from sklearn.metrics import classification_report"
      ]
    },
    {
      "cell_type": "markdown",
      "source": [
        "Importing the dataset, preparing and splitting the data"
      ],
      "metadata": {
        "id": "N9nPTvQ5Wh-h"
      }
    },
    {
      "cell_type": "code",
      "source": [
        "nutrient_df = pd.read_csv('synthetic_nutrient_data_10years.csv')\n",
        "X = nutrient_df.drop(['label', 'season', 'year'], axis=1)\n",
        "y = nutrient_df['label']\n",
        "X_train, X_test, y_train, y_test = train_test_split(X, y, test_size=0.2, random_state=0)"
      ],
      "metadata": {
        "id": "iYCmx-_VUlNK"
      },
      "execution_count": 13,
      "outputs": []
    },
    {
      "cell_type": "markdown",
      "source": [
        "Initializing KNN and fitting the model"
      ],
      "metadata": {
        "id": "mV0Z_lJxWn4u"
      }
    },
    {
      "cell_type": "code",
      "source": [
        "knn = KNeighborsClassifier(n_neighbors=5)\n",
        "knn.fit(X_train, y_train)"
      ],
      "metadata": {
        "colab": {
          "base_uri": "https://localhost:8080/",
          "height": 74
        },
        "id": "6rY4bWc1Vp5G",
        "outputId": "dbdb438d-bda0-4fb8-c5ab-c0516b19eddb"
      },
      "execution_count": 14,
      "outputs": [
        {
          "output_type": "execute_result",
          "data": {
            "text/plain": [
              "KNeighborsClassifier()"
            ],
            "text/html": [
              "<style>#sk-container-id-1 {color: black;background-color: white;}#sk-container-id-1 pre{padding: 0;}#sk-container-id-1 div.sk-toggleable {background-color: white;}#sk-container-id-1 label.sk-toggleable__label {cursor: pointer;display: block;width: 100%;margin-bottom: 0;padding: 0.3em;box-sizing: border-box;text-align: center;}#sk-container-id-1 label.sk-toggleable__label-arrow:before {content: \"▸\";float: left;margin-right: 0.25em;color: #696969;}#sk-container-id-1 label.sk-toggleable__label-arrow:hover:before {color: black;}#sk-container-id-1 div.sk-estimator:hover label.sk-toggleable__label-arrow:before {color: black;}#sk-container-id-1 div.sk-toggleable__content {max-height: 0;max-width: 0;overflow: hidden;text-align: left;background-color: #f0f8ff;}#sk-container-id-1 div.sk-toggleable__content pre {margin: 0.2em;color: black;border-radius: 0.25em;background-color: #f0f8ff;}#sk-container-id-1 input.sk-toggleable__control:checked~div.sk-toggleable__content {max-height: 200px;max-width: 100%;overflow: auto;}#sk-container-id-1 input.sk-toggleable__control:checked~label.sk-toggleable__label-arrow:before {content: \"▾\";}#sk-container-id-1 div.sk-estimator input.sk-toggleable__control:checked~label.sk-toggleable__label {background-color: #d4ebff;}#sk-container-id-1 div.sk-label input.sk-toggleable__control:checked~label.sk-toggleable__label {background-color: #d4ebff;}#sk-container-id-1 input.sk-hidden--visually {border: 0;clip: rect(1px 1px 1px 1px);clip: rect(1px, 1px, 1px, 1px);height: 1px;margin: -1px;overflow: hidden;padding: 0;position: absolute;width: 1px;}#sk-container-id-1 div.sk-estimator {font-family: monospace;background-color: #f0f8ff;border: 1px dotted black;border-radius: 0.25em;box-sizing: border-box;margin-bottom: 0.5em;}#sk-container-id-1 div.sk-estimator:hover {background-color: #d4ebff;}#sk-container-id-1 div.sk-parallel-item::after {content: \"\";width: 100%;border-bottom: 1px solid gray;flex-grow: 1;}#sk-container-id-1 div.sk-label:hover label.sk-toggleable__label {background-color: #d4ebff;}#sk-container-id-1 div.sk-serial::before {content: \"\";position: absolute;border-left: 1px solid gray;box-sizing: border-box;top: 0;bottom: 0;left: 50%;z-index: 0;}#sk-container-id-1 div.sk-serial {display: flex;flex-direction: column;align-items: center;background-color: white;padding-right: 0.2em;padding-left: 0.2em;position: relative;}#sk-container-id-1 div.sk-item {position: relative;z-index: 1;}#sk-container-id-1 div.sk-parallel {display: flex;align-items: stretch;justify-content: center;background-color: white;position: relative;}#sk-container-id-1 div.sk-item::before, #sk-container-id-1 div.sk-parallel-item::before {content: \"\";position: absolute;border-left: 1px solid gray;box-sizing: border-box;top: 0;bottom: 0;left: 50%;z-index: -1;}#sk-container-id-1 div.sk-parallel-item {display: flex;flex-direction: column;z-index: 1;position: relative;background-color: white;}#sk-container-id-1 div.sk-parallel-item:first-child::after {align-self: flex-end;width: 50%;}#sk-container-id-1 div.sk-parallel-item:last-child::after {align-self: flex-start;width: 50%;}#sk-container-id-1 div.sk-parallel-item:only-child::after {width: 0;}#sk-container-id-1 div.sk-dashed-wrapped {border: 1px dashed gray;margin: 0 0.4em 0.5em 0.4em;box-sizing: border-box;padding-bottom: 0.4em;background-color: white;}#sk-container-id-1 div.sk-label label {font-family: monospace;font-weight: bold;display: inline-block;line-height: 1.2em;}#sk-container-id-1 div.sk-label-container {text-align: center;}#sk-container-id-1 div.sk-container {/* jupyter's `normalize.less` sets `[hidden] { display: none; }` but bootstrap.min.css set `[hidden] { display: none !important; }` so we also need the `!important` here to be able to override the default hidden behavior on the sphinx rendered scikit-learn.org. See: https://github.com/scikit-learn/scikit-learn/issues/21755 */display: inline-block !important;position: relative;}#sk-container-id-1 div.sk-text-repr-fallback {display: none;}</style><div id=\"sk-container-id-1\" class=\"sk-top-container\"><div class=\"sk-text-repr-fallback\"><pre>KNeighborsClassifier()</pre><b>In a Jupyter environment, please rerun this cell to show the HTML representation or trust the notebook. <br />On GitHub, the HTML representation is unable to render, please try loading this page with nbviewer.org.</b></div><div class=\"sk-container\" hidden><div class=\"sk-item\"><div class=\"sk-estimator sk-toggleable\"><input class=\"sk-toggleable__control sk-hidden--visually\" id=\"sk-estimator-id-1\" type=\"checkbox\" checked><label for=\"sk-estimator-id-1\" class=\"sk-toggleable__label sk-toggleable__label-arrow\">KNeighborsClassifier</label><div class=\"sk-toggleable__content\"><pre>KNeighborsClassifier()</pre></div></div></div></div></div>"
            ]
          },
          "metadata": {},
          "execution_count": 14
        }
      ]
    },
    {
      "cell_type": "markdown",
      "source": [
        "Predicting the Model"
      ],
      "metadata": {
        "id": "2W8JgCadXIde"
      }
    },
    {
      "cell_type": "code",
      "source": [
        "test_predictions = knn.predict(X_test)\n",
        "prediction_df = X_test.copy()\n",
        "prediction_df['predicted_label'] = test_predictions\n",
        "prediction_df.to_csv('nutrient_predictions.csv', index=False)\n",
        "print(classification_report(y_test, test_predictions))\n",
        "label_counts = pd.Series(test_predictions).value_counts()\n",
        "total_predictions = len(test_predictions)\n",
        "comment = f\"\"\"\n",
        "Nutrient Quality Prediction Summary:\n",
        "- Good: {label_counts.get('good', 0)} ({(label_counts.get('good', 0) / total_predictions) * 100:.2f}%)\n",
        "- Mid-good: {label_counts.get('mid-good', 0)} ({(label_counts.get('mid-good', 0) / total_predictions) * 100:.2f}%)\n",
        "- Average: {label_counts.get('average', 0)} ({(label_counts.get('average', 0) / total_predictions) * 100:.2f}%)\n",
        "- Mid-bad: {label_counts.get('mid-bad', 0)} ({(label_counts.get('mid-bad', 0) / total_predictions) * 100:.2f}%)\n",
        "- Bad: {label_counts.get('bad', 0)} ({(label_counts.get('bad', 0) / total_predictions) * 100:.2f}%)\n",
        "\"\"\"\n",
        "if label_counts.get('bad', 0) > 0.5 * total_predictions:\n",
        "    ultimate_prediction = \"Overall Nutrient Quality: Bad\"\n",
        "elif label_counts.get('mid-bad', 0) > 0.5 * total_predictions:\n",
        "    ultimate_prediction = \"Overall Nutrient Quality: Mid-Bad\"\n",
        "elif label_counts.get('average', 0) > 0.5 * total_predictions:\n",
        "    ultimate_prediction = \"Overall Nutrient Quality: Average\"\n",
        "elif label_counts.get('mid-good', 0) > 0.5 * total_predictions:\n",
        "    ultimate_prediction = \"Overall Nutrient Quality: Mid-Good\"\n",
        "else:\n",
        "    ultimate_prediction = \"Overall Nutrient Quality: Good\"\n",
        "\n",
        "comment += ultimate_prediction\n",
        "print(comment)\n",
        "ultimate_df = pd.DataFrame({'ultimate_prediction': [ultimate_prediction]})"
      ],
      "metadata": {
        "colab": {
          "base_uri": "https://localhost:8080/"
        },
        "id": "7vvVBCqrVx3S",
        "outputId": "0dc64a48-ba5e-4019-ead4-363d1a0eed44"
      },
      "execution_count": 15,
      "outputs": [
        {
          "output_type": "stream",
          "name": "stdout",
          "text": [
            "              precision    recall  f1-score   support\n",
            "\n",
            "     average       0.29      0.22      0.25         9\n",
            "         bad       0.25      0.40      0.31         5\n",
            "        good       0.00      0.00      0.00         4\n",
            "     mid-bad       0.40      0.18      0.25        11\n",
            "    mid-good       0.20      0.33      0.25         3\n",
            "\n",
            "    accuracy                           0.22        32\n",
            "   macro avg       0.23      0.23      0.21        32\n",
            "weighted avg       0.28      0.22      0.23        32\n",
            "\n",
            "\n",
            "Nutrient Quality Prediction Summary:\n",
            "- Good: 7 (21.88%)\n",
            "- Mid-good: 5 (15.62%)\n",
            "- Average: 7 (21.88%)\n",
            "- Mid-bad: 5 (15.62%)\n",
            "- Bad: 8 (25.00%)\n",
            "Overall Nutrient Quality: Good\n"
          ]
        }
      ]
    },
    {
      "cell_type": "markdown",
      "source": [
        "Saving the prediction"
      ],
      "metadata": {
        "id": "3jd_Rr-CXPzm"
      }
    },
    {
      "cell_type": "code",
      "source": [
        "ultimate_df.to_csv('ultimate_nutrient_prediction.csv', index=False)"
      ],
      "metadata": {
        "id": "cnmRlh4OV7xu"
      },
      "execution_count": 16,
      "outputs": []
    }
  ]
}