{
  "nbformat": 4,
  "nbformat_minor": 0,
  "metadata": {
    "colab": {
      "provenance": [],
      "authorship_tag": "ABX9TyP7/sO3PJaqaTFcKnGB7DjS",
      "include_colab_link": true
    },
    "kernelspec": {
      "name": "python3",
      "display_name": "Python 3"
    },
    "language_info": {
      "name": "python"
    }
  },
  "cells": [
    {
      "cell_type": "markdown",
      "metadata": {
        "id": "view-in-github",
        "colab_type": "text"
      },
      "source": [
        "<a href=\"https://colab.research.google.com/github/innovativenexusbd/AgroAI/blob/main/pestdataanalysis.ipynb\" target=\"_parent\"><img src=\"https://colab.research.google.com/assets/colab-badge.svg\" alt=\"Open In Colab\"/></a>"
      ]
    },
    {
      "cell_type": "markdown",
      "source": [
        "**Importing**"
      ],
      "metadata": {
        "id": "lLeg1m3unFj0"
      }
    },
    {
      "cell_type": "code",
      "source": [
        "import numpy as np\n",
        "import pandas as pd\n",
        "from sklearn.model_selection import train_test_split\n",
        "from sklearn.linear_model import LogisticRegression\n",
        "from sklearn.metrics import classification_report, confusion_matrix"
      ],
      "metadata": {
        "id": "kS8mP4yb9yrb"
      },
      "execution_count": 10,
      "outputs": []
    },
    {
      "cell_type": "markdown",
      "source": [
        "**Loading the Database and Encoding Categorial Variables**"
      ],
      "metadata": {
        "id": "bzSc1ixtnLLn"
      }
    },
    {
      "cell_type": "code",
      "source": [
        "pest_df = pd.read_csv('pest_data.csv')\n",
        "pest_df = pd.get_dummies(pest_df, columns=['PestType', 'Area'], drop_first=True)"
      ],
      "metadata": {
        "id": "uJMXmZfNmqkX"
      },
      "execution_count": 11,
      "outputs": []
    },
    {
      "cell_type": "markdown",
      "source": [
        "**Preparing and Splitting the Data**"
      ],
      "metadata": {
        "id": "FS0B3zRUnT6E"
      }
    },
    {
      "cell_type": "code",
      "source": [
        "X_pest = pest_df.drop('Severity', axis=1)\n",
        "y_pest = pest_df['Severity']\n",
        "X_train_pest, X_test_pest, y_train_pest, y_test_pest = train_test_split(X_pest, y_pest, test_size=0.2, random_state=42)"
      ],
      "metadata": {
        "id": "bLdZbDl9mw2j"
      },
      "execution_count": 12,
      "outputs": []
    },
    {
      "cell_type": "markdown",
      "source": [
        "**Initiatizing the Model and Training the Model**"
      ],
      "metadata": {
        "id": "w78WNzbBn-QF"
      }
    },
    {
      "cell_type": "code",
      "source": [
        "logreg_pest = LogisticRegression(max_iter=1000)\n",
        "logreg_pest.fit(X_train_pest, y_train_pest)"
      ],
      "metadata": {
        "colab": {
          "base_uri": "https://localhost:8080/",
          "height": 75
        },
        "id": "inaPEewTm0Uj",
        "outputId": "4007edee-cf87-4eec-9673-c319eb354bc8"
      },
      "execution_count": 13,
      "outputs": [
        {
          "output_type": "execute_result",
          "data": {
            "text/plain": [
              "LogisticRegression(max_iter=1000)"
            ],
            "text/html": [
              "<style>#sk-container-id-1 {color: black;background-color: white;}#sk-container-id-1 pre{padding: 0;}#sk-container-id-1 div.sk-toggleable {background-color: white;}#sk-container-id-1 label.sk-toggleable__label {cursor: pointer;display: block;width: 100%;margin-bottom: 0;padding: 0.3em;box-sizing: border-box;text-align: center;}#sk-container-id-1 label.sk-toggleable__label-arrow:before {content: \"▸\";float: left;margin-right: 0.25em;color: #696969;}#sk-container-id-1 label.sk-toggleable__label-arrow:hover:before {color: black;}#sk-container-id-1 div.sk-estimator:hover label.sk-toggleable__label-arrow:before {color: black;}#sk-container-id-1 div.sk-toggleable__content {max-height: 0;max-width: 0;overflow: hidden;text-align: left;background-color: #f0f8ff;}#sk-container-id-1 div.sk-toggleable__content pre {margin: 0.2em;color: black;border-radius: 0.25em;background-color: #f0f8ff;}#sk-container-id-1 input.sk-toggleable__control:checked~div.sk-toggleable__content {max-height: 200px;max-width: 100%;overflow: auto;}#sk-container-id-1 input.sk-toggleable__control:checked~label.sk-toggleable__label-arrow:before {content: \"▾\";}#sk-container-id-1 div.sk-estimator input.sk-toggleable__control:checked~label.sk-toggleable__label {background-color: #d4ebff;}#sk-container-id-1 div.sk-label input.sk-toggleable__control:checked~label.sk-toggleable__label {background-color: #d4ebff;}#sk-container-id-1 input.sk-hidden--visually {border: 0;clip: rect(1px 1px 1px 1px);clip: rect(1px, 1px, 1px, 1px);height: 1px;margin: -1px;overflow: hidden;padding: 0;position: absolute;width: 1px;}#sk-container-id-1 div.sk-estimator {font-family: monospace;background-color: #f0f8ff;border: 1px dotted black;border-radius: 0.25em;box-sizing: border-box;margin-bottom: 0.5em;}#sk-container-id-1 div.sk-estimator:hover {background-color: #d4ebff;}#sk-container-id-1 div.sk-parallel-item::after {content: \"\";width: 100%;border-bottom: 1px solid gray;flex-grow: 1;}#sk-container-id-1 div.sk-label:hover label.sk-toggleable__label {background-color: #d4ebff;}#sk-container-id-1 div.sk-serial::before {content: \"\";position: absolute;border-left: 1px solid gray;box-sizing: border-box;top: 0;bottom: 0;left: 50%;z-index: 0;}#sk-container-id-1 div.sk-serial {display: flex;flex-direction: column;align-items: center;background-color: white;padding-right: 0.2em;padding-left: 0.2em;position: relative;}#sk-container-id-1 div.sk-item {position: relative;z-index: 1;}#sk-container-id-1 div.sk-parallel {display: flex;align-items: stretch;justify-content: center;background-color: white;position: relative;}#sk-container-id-1 div.sk-item::before, #sk-container-id-1 div.sk-parallel-item::before {content: \"\";position: absolute;border-left: 1px solid gray;box-sizing: border-box;top: 0;bottom: 0;left: 50%;z-index: -1;}#sk-container-id-1 div.sk-parallel-item {display: flex;flex-direction: column;z-index: 1;position: relative;background-color: white;}#sk-container-id-1 div.sk-parallel-item:first-child::after {align-self: flex-end;width: 50%;}#sk-container-id-1 div.sk-parallel-item:last-child::after {align-self: flex-start;width: 50%;}#sk-container-id-1 div.sk-parallel-item:only-child::after {width: 0;}#sk-container-id-1 div.sk-dashed-wrapped {border: 1px dashed gray;margin: 0 0.4em 0.5em 0.4em;box-sizing: border-box;padding-bottom: 0.4em;background-color: white;}#sk-container-id-1 div.sk-label label {font-family: monospace;font-weight: bold;display: inline-block;line-height: 1.2em;}#sk-container-id-1 div.sk-label-container {text-align: center;}#sk-container-id-1 div.sk-container {/* jupyter's `normalize.less` sets `[hidden] { display: none; }` but bootstrap.min.css set `[hidden] { display: none !important; }` so we also need the `!important` here to be able to override the default hidden behavior on the sphinx rendered scikit-learn.org. See: https://github.com/scikit-learn/scikit-learn/issues/21755 */display: inline-block !important;position: relative;}#sk-container-id-1 div.sk-text-repr-fallback {display: none;}</style><div id=\"sk-container-id-1\" class=\"sk-top-container\"><div class=\"sk-text-repr-fallback\"><pre>LogisticRegression(max_iter=1000)</pre><b>In a Jupyter environment, please rerun this cell to show the HTML representation or trust the notebook. <br />On GitHub, the HTML representation is unable to render, please try loading this page with nbviewer.org.</b></div><div class=\"sk-container\" hidden><div class=\"sk-item\"><div class=\"sk-estimator sk-toggleable\"><input class=\"sk-toggleable__control sk-hidden--visually\" id=\"sk-estimator-id-1\" type=\"checkbox\" checked><label for=\"sk-estimator-id-1\" class=\"sk-toggleable__label sk-toggleable__label-arrow\">LogisticRegression</label><div class=\"sk-toggleable__content\"><pre>LogisticRegression(max_iter=1000)</pre></div></div></div></div></div>"
            ]
          },
          "metadata": {},
          "execution_count": 13
        }
      ]
    },
    {
      "cell_type": "markdown",
      "source": [
        "**Predicting, Evaluating the Model and Analyzing**"
      ],
      "metadata": {
        "id": "-F3GJR8SnXzd"
      }
    },
    {
      "cell_type": "code",
      "source": [
        "y_pred_pest = logreg_pest.predict(X_test_pest)\n",
        "print(\"Pest Data Classification Report:\")\n",
        "print(classification_report(y_test_pest, y_pred_pest))\n",
        "print(\"Pest Data Confusion Matrix:\")\n",
        "print(confusion_matrix(y_test_pest, y_pred_pest))\n",
        "pest_df['Predicted_Severity'] = logreg_pest.predict(X_pest)\n",
        "pest_ranking = pest_df.groupby(['PestType_Type2', 'PestType_Type3', 'Area_Area2', 'Area_Area3'])['Predicted_Severity'].sum().reset_index()\n",
        "pest_ranking = pest_ranking.sort_values(by='Predicted_Severity', ascending=False)"
      ],
      "metadata": {
        "colab": {
          "base_uri": "https://localhost:8080/"
        },
        "id": "J5GtxR95m2_U",
        "outputId": "e537d64e-3446-4a21-83f7-2f4a12ed5971"
      },
      "execution_count": 14,
      "outputs": [
        {
          "output_type": "stream",
          "name": "stdout",
          "text": [
            "Pest Data Classification Report:\n",
            "              precision    recall  f1-score   support\n",
            "\n",
            "           0       0.51      0.42      0.46        48\n",
            "           1       0.54      0.63      0.58        52\n",
            "\n",
            "    accuracy                           0.53       100\n",
            "   macro avg       0.53      0.53      0.52       100\n",
            "weighted avg       0.53      0.53      0.52       100\n",
            "\n",
            "Pest Data Confusion Matrix:\n",
            "[[20 28]\n",
            " [19 33]]\n"
          ]
        }
      ]
    },
    {
      "cell_type": "markdown",
      "source": [
        "**Saving the Analysis**"
      ],
      "metadata": {
        "id": "GKVPRbV4n4qo"
      }
    },
    {
      "cell_type": "code",
      "source": [
        "pest_ranking.to_csv('pest_analysis.csv', index=False)\n",
        "print(\"Pest Ranking by Area:\")\n",
        "print(pest_ranking.head())"
      ],
      "metadata": {
        "colab": {
          "base_uri": "https://localhost:8080/"
        },
        "id": "4BegI6XVnEN_",
        "outputId": "bfa7d31f-70d6-49ab-cdb1-249ba027bf17"
      },
      "execution_count": 15,
      "outputs": [
        {
          "output_type": "stream",
          "name": "stdout",
          "text": [
            "Pest Ranking by Area:\n",
            "   PestType_Type2  PestType_Type3  Area_Area2  Area_Area3  Predicted_Severity\n",
            "1           False           False       False        True                  54\n",
            "0           False           False       False       False                  40\n",
            "2           False           False        True       False                  39\n",
            "4           False            True       False        True                  39\n",
            "7            True           False       False        True                  30\n"
          ]
        }
      ]
    }
  ]
}