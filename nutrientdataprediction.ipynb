{
  "nbformat": 4,
  "nbformat_minor": 0,
  "metadata": {
    "colab": {
      "provenance": [],
      "authorship_tag": "ABX9TyNXrCYbEF0hZEkgQl7K5sjq",
      "include_colab_link": true
    },
    "kernelspec": {
      "name": "python3",
      "display_name": "Python 3"
    },
    "language_info": {
      "name": "python"
    }
  },
  "cells": [
    {
      "cell_type": "markdown",
      "metadata": {
        "id": "view-in-github",
        "colab_type": "text"
      },
      "source": [
        "<a href=\"https://colab.research.google.com/github/innovativenexusbd/AgroAI/blob/main/nutrientdataprediction.ipynb\" target=\"_parent\"><img src=\"https://colab.research.google.com/assets/colab-badge.svg\" alt=\"Open In Colab\"/></a>"
      ]
    },
    {
      "cell_type": "markdown",
      "source": [
        "Importing"
      ],
      "metadata": {
        "id": "-P-iA9hmz1Vs"
      }
    },
    {
      "cell_type": "code",
      "execution_count": 8,
      "metadata": {
        "id": "FYGndXeDyIyL"
      },
      "outputs": [],
      "source": [
        "import pandas as pd\n",
        "import numpy as np\n",
        "from sklearn.model_selection import train_test_split\n",
        "from sklearn.neighbors import KNeighborsClassifier\n",
        "from sklearn.preprocessing import StandardScaler\n",
        "from sklearn.metrics import classification_report"
      ]
    },
    {
      "cell_type": "code",
      "source": [
        "np.random.seed(42)\n",
        "data_size = 1000\n",
        "nutrients = {\n",
        "    #Should be collected from the IoT sensors\n",
        "}\n",
        "# Nutrient sufficiency thresholds. Should be adjusted based on the crops and sources.\n",
        "sufficiency_thresholds = {\n",
        "    'Nitrogen': 50,\n",
        "    'Phosphorus': 30,\n",
        "    'Potassium': 40,\n",
        "    'Calcium': 20,\n",
        "    'Magnesium': 10,\n",
        "    'Sulfur': 15,\n",
        "    'Boron': 1,\n",
        "    'Copper': 0.5,\n",
        "    'Iron': 2.5,\n",
        "    'Manganese': 2,\n",
        "    'Zinc': 1\n",
        "}\n",
        "def is_sufficient(row):\n",
        "    for nutrient, threshold in sufficiency_thresholds.items():\n",
        "        if row[nutrient] < threshold:\n",
        "            return 'Insufficient'\n",
        "    return 'Sufficient'\n",
        "\n",
        "df = pd.DataFrame(nutrients)\n",
        "df['Sufficiency'] = df.apply(is_sufficient, axis=1)\n",
        "df.to_csv('soil_nutrients.csv', index=False)"
      ],
      "metadata": {
        "id": "s2l3TmJK1TKL"
      },
      "execution_count": 15,
      "outputs": []
    },
    {
      "cell_type": "markdown",
      "source": [
        "Load Dataset, Prepare Data and Split the Dataset"
      ],
      "metadata": {
        "id": "66HAeuMMz4ue"
      }
    },
    {
      "cell_type": "code",
      "source": [
        "df = pd.read_csv('soil_nutrients.csv')\n",
        "X = df.drop(columns=['Sufficiency'])\n",
        "y = df['Sufficiency']\n",
        "X_train, X_test, y_train, y_test = train_test_split(X, y, test_size=0.2, random_state=42)\n"
      ],
      "metadata": {
        "id": "loiZxPdmzNxU"
      },
      "execution_count": 10,
      "outputs": []
    },
    {
      "cell_type": "markdown",
      "source": [
        "Scale the features and Train the Model"
      ],
      "metadata": {
        "id": "aqvLtwfQz_z0"
      }
    },
    {
      "cell_type": "code",
      "source": [
        "scaler = StandardScaler()\n",
        "X_train_scaled = scaler.fit_transform(X_train)\n",
        "X_test_scaled = scaler.transform(X_test)\n",
        "knn = KNeighborsClassifier(n_neighbors=5)\n",
        "knn.fit(X_train_scaled, y_train)\n"
      ],
      "metadata": {
        "colab": {
          "base_uri": "https://localhost:8080/",
          "height": 75
        },
        "id": "J0AdbohpzaY9",
        "outputId": "30c33268-e1e6-489c-8544-55295f7d1f88"
      },
      "execution_count": 11,
      "outputs": [
        {
          "output_type": "execute_result",
          "data": {
            "text/plain": [
              "KNeighborsClassifier()"
            ],
            "text/html": [
              "<style>#sk-container-id-1 {color: black;background-color: white;}#sk-container-id-1 pre{padding: 0;}#sk-container-id-1 div.sk-toggleable {background-color: white;}#sk-container-id-1 label.sk-toggleable__label {cursor: pointer;display: block;width: 100%;margin-bottom: 0;padding: 0.3em;box-sizing: border-box;text-align: center;}#sk-container-id-1 label.sk-toggleable__label-arrow:before {content: \"▸\";float: left;margin-right: 0.25em;color: #696969;}#sk-container-id-1 label.sk-toggleable__label-arrow:hover:before {color: black;}#sk-container-id-1 div.sk-estimator:hover label.sk-toggleable__label-arrow:before {color: black;}#sk-container-id-1 div.sk-toggleable__content {max-height: 0;max-width: 0;overflow: hidden;text-align: left;background-color: #f0f8ff;}#sk-container-id-1 div.sk-toggleable__content pre {margin: 0.2em;color: black;border-radius: 0.25em;background-color: #f0f8ff;}#sk-container-id-1 input.sk-toggleable__control:checked~div.sk-toggleable__content {max-height: 200px;max-width: 100%;overflow: auto;}#sk-container-id-1 input.sk-toggleable__control:checked~label.sk-toggleable__label-arrow:before {content: \"▾\";}#sk-container-id-1 div.sk-estimator input.sk-toggleable__control:checked~label.sk-toggleable__label {background-color: #d4ebff;}#sk-container-id-1 div.sk-label input.sk-toggleable__control:checked~label.sk-toggleable__label {background-color: #d4ebff;}#sk-container-id-1 input.sk-hidden--visually {border: 0;clip: rect(1px 1px 1px 1px);clip: rect(1px, 1px, 1px, 1px);height: 1px;margin: -1px;overflow: hidden;padding: 0;position: absolute;width: 1px;}#sk-container-id-1 div.sk-estimator {font-family: monospace;background-color: #f0f8ff;border: 1px dotted black;border-radius: 0.25em;box-sizing: border-box;margin-bottom: 0.5em;}#sk-container-id-1 div.sk-estimator:hover {background-color: #d4ebff;}#sk-container-id-1 div.sk-parallel-item::after {content: \"\";width: 100%;border-bottom: 1px solid gray;flex-grow: 1;}#sk-container-id-1 div.sk-label:hover label.sk-toggleable__label {background-color: #d4ebff;}#sk-container-id-1 div.sk-serial::before {content: \"\";position: absolute;border-left: 1px solid gray;box-sizing: border-box;top: 0;bottom: 0;left: 50%;z-index: 0;}#sk-container-id-1 div.sk-serial {display: flex;flex-direction: column;align-items: center;background-color: white;padding-right: 0.2em;padding-left: 0.2em;position: relative;}#sk-container-id-1 div.sk-item {position: relative;z-index: 1;}#sk-container-id-1 div.sk-parallel {display: flex;align-items: stretch;justify-content: center;background-color: white;position: relative;}#sk-container-id-1 div.sk-item::before, #sk-container-id-1 div.sk-parallel-item::before {content: \"\";position: absolute;border-left: 1px solid gray;box-sizing: border-box;top: 0;bottom: 0;left: 50%;z-index: -1;}#sk-container-id-1 div.sk-parallel-item {display: flex;flex-direction: column;z-index: 1;position: relative;background-color: white;}#sk-container-id-1 div.sk-parallel-item:first-child::after {align-self: flex-end;width: 50%;}#sk-container-id-1 div.sk-parallel-item:last-child::after {align-self: flex-start;width: 50%;}#sk-container-id-1 div.sk-parallel-item:only-child::after {width: 0;}#sk-container-id-1 div.sk-dashed-wrapped {border: 1px dashed gray;margin: 0 0.4em 0.5em 0.4em;box-sizing: border-box;padding-bottom: 0.4em;background-color: white;}#sk-container-id-1 div.sk-label label {font-family: monospace;font-weight: bold;display: inline-block;line-height: 1.2em;}#sk-container-id-1 div.sk-label-container {text-align: center;}#sk-container-id-1 div.sk-container {/* jupyter's `normalize.less` sets `[hidden] { display: none; }` but bootstrap.min.css set `[hidden] { display: none !important; }` so we also need the `!important` here to be able to override the default hidden behavior on the sphinx rendered scikit-learn.org. See: https://github.com/scikit-learn/scikit-learn/issues/21755 */display: inline-block !important;position: relative;}#sk-container-id-1 div.sk-text-repr-fallback {display: none;}</style><div id=\"sk-container-id-1\" class=\"sk-top-container\"><div class=\"sk-text-repr-fallback\"><pre>KNeighborsClassifier()</pre><b>In a Jupyter environment, please rerun this cell to show the HTML representation or trust the notebook. <br />On GitHub, the HTML representation is unable to render, please try loading this page with nbviewer.org.</b></div><div class=\"sk-container\" hidden><div class=\"sk-item\"><div class=\"sk-estimator sk-toggleable\"><input class=\"sk-toggleable__control sk-hidden--visually\" id=\"sk-estimator-id-1\" type=\"checkbox\" checked><label for=\"sk-estimator-id-1\" class=\"sk-toggleable__label sk-toggleable__label-arrow\">KNeighborsClassifier</label><div class=\"sk-toggleable__content\"><pre>KNeighborsClassifier()</pre></div></div></div></div></div>"
            ]
          },
          "metadata": {},
          "execution_count": 11
        }
      ]
    },
    {
      "cell_type": "markdown",
      "source": [
        "Prediction and ensuring that weather the nutrients are sufficient or insufficient. If insufficient, which nutrients are insufficient"
      ],
      "metadata": {
        "id": "pqMLbe5v0HQ8"
      }
    },
    {
      "cell_type": "code",
      "source": [
        "y_pred = knn.predict(X_test_scaled)\n",
        "print(classification_report(y_test, y_pred))\n",
        "def check_insufficient_nutrients(row, thresholds):\n",
        "    insufficient_nutrients = []\n",
        "    for nutrient, value in row.items():\n",
        "        if nutrient in thresholds and value < thresholds[nutrient]:\n",
        "            insufficient_nutrients.append(nutrient)\n",
        "    return insufficient_nutrients\n",
        "results = X_test.copy()\n",
        "results['Predicted_Sufficiency'] = y_pred\n",
        "\n",
        "insufficient_nutrients_list = []\n",
        "for i in range(len(X_test)):\n",
        "    if y_pred[i] == 'Insufficient':\n",
        "        insufficient_nutrients = check_insufficient_nutrients(X_test.iloc[i], sufficiency_thresholds)\n",
        "        insufficient_nutrients_list.append(\", \".join(insufficient_nutrients))\n",
        "    else:\n",
        "        insufficient_nutrients_list.append(\"\")\n",
        "\n",
        "results['Insufficient_Nutrients'] = insufficient_nutrients_list\n"
      ],
      "metadata": {
        "colab": {
          "base_uri": "https://localhost:8080/"
        },
        "id": "pMFJaWeezdZY",
        "outputId": "a4663881-bf7c-4ffd-a4ab-0d7e355228ba"
      },
      "execution_count": 12,
      "outputs": [
        {
          "output_type": "stream",
          "name": "stdout",
          "text": [
            "              precision    recall  f1-score   support\n",
            "\n",
            "Insufficient       0.82      0.91      0.87       148\n",
            "  Sufficient       0.64      0.44      0.52        52\n",
            "\n",
            "    accuracy                           0.79       200\n",
            "   macro avg       0.73      0.68      0.69       200\n",
            "weighted avg       0.78      0.79      0.78       200\n",
            "\n"
          ]
        }
      ]
    },
    {
      "cell_type": "markdown",
      "source": [
        "Saving the Ultimate Result in the CSV format"
      ],
      "metadata": {
        "id": "bxTnigdC0SHN"
      }
    },
    {
      "cell_type": "code",
      "source": [
        "results.to_csv('predicted_soil_nutrients.csv', index=False)\n"
      ],
      "metadata": {
        "id": "HkdhZZ1szgbc"
      },
      "execution_count": 13,
      "outputs": []
    }
  ]
}